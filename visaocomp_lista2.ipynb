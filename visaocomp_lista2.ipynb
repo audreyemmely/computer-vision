{
  "nbformat": 4,
  "nbformat_minor": 0,
  "metadata": {
    "colab": {
      "name": "visaocomp_lista2.ipynb",
      "provenance": [],
      "collapsed_sections": [],
      "include_colab_link": true
    },
    "kernelspec": {
      "name": "python3",
      "display_name": "Python 3"
    },
    "language_info": {
      "name": "python"
    }
  },
  "cells": [
    {
      "cell_type": "markdown",
      "metadata": {
        "id": "view-in-github",
        "colab_type": "text"
      },
      "source": [
        "<a href=\"https://colab.research.google.com/github/audreyemmely/computer-vision/blob/main/visaocomp_lista2.ipynb\" target=\"_parent\"><img src=\"https://colab.research.google.com/assets/colab-badge.svg\" alt=\"Open In Colab\"/></a>"
      ]
    },
    {
      "cell_type": "markdown",
      "source": [
        "#**Resolução Lista 2**\n",
        "---\n",
        "\n",
        "ARQUIMEDES VINÍCIUS PEREIRA DE FRANÇA MOURA\n",
        "\n",
        "AUDREY EMMELY RODRIGUES VASCONCELOS\n",
        "\n"
      ],
      "metadata": {
        "id": "k_vsvFe5KYE-"
      }
    },
    {
      "cell_type": "markdown",
      "source": [
        "## Instalação do opencv"
      ],
      "metadata": {
        "id": "dzPoHIlOPbHr"
      }
    },
    {
      "cell_type": "code",
      "source": [
        "#!pip install opencv-python"
      ],
      "metadata": {
        "id": "KLgH2EUlPhuw"
      },
      "execution_count": null,
      "outputs": []
    },
    {
      "cell_type": "markdown",
      "source": [
        "## Importando bibliotecas"
      ],
      "metadata": {
        "id": "2QzUV_a9k3WS"
      }
    },
    {
      "cell_type": "code",
      "source": [
        "import cv2\n",
        "import numpy as np\n",
        "import matplotlib.pyplot as plt\n",
        "from skimage import io\n",
        "from google.colab.patches import cv2_imshow\n",
        "from scipy import signal"
      ],
      "metadata": {
        "id": "3JDiQc_slBLU"
      },
      "execution_count": null,
      "outputs": []
    },
    {
      "cell_type": "markdown",
      "source": [
        "## Importando assets"
      ],
      "metadata": {
        "id": "iV9vMmw68SFL"
      }
    },
    {
      "cell_type": "code",
      "source": [
        "# image path \n",
        "path1 = 'https://user-images.githubusercontent.com/52829664/163676629-e6ba9f73-3115-4b8a-94de-42ad57632f9b.jpg'\n",
        "path2 = 'https://user-images.githubusercontent.com/52829664/163676630-8ffbc9a0-de16-44d1-8120-4801a9ab5f7b.jpg'\n",
        "path3 = 'https://user-images.githubusercontent.com/52829664/163676631-a0b3e8b6-2f84-4e5f-bd7f-759b635cda63.jpg'\n",
        "path4 = 'https://user-images.githubusercontent.com/52829664/163676627-e9d549ee-a15c-4703-a8ed-b5c780d5975c.jpeg'\n",
        "path5 = 'https://user-images.githubusercontent.com/52829664/163713134-8ef41a6f-ae48-4ea8-ae04-0de18ac0f763.png'\n",
        "path6 = 'https://user-images.githubusercontent.com/52829664/163714305-0a5bdd70-c6cb-4cf3-b5b6-1abb4c17c7b5.jpg'\n",
        "path7 = 'https://user-images.githubusercontent.com/52829664/163714218-19327e42-a4b7-4d87-8569-14bd086c7534.jpeg'\n",
        "path8 = 'https://user-images.githubusercontent.com/52829664/164074882-74c0daa2-140c-44f5-90bd-99c668e3a8d3.jpeg'"
      ],
      "metadata": {
        "id": "jr0UZ3fq8Wn6"
      },
      "execution_count": null,
      "outputs": []
    },
    {
      "cell_type": "code",
      "source": [
        "img1 = io.imread(path1)\n",
        "img2 = io.imread(path2)\n",
        "img3 = io.imread(path3)\n",
        "img4 = io.imread(path4)\n",
        "img5 = io.imread(path5)\n",
        "img6 = io.imread(path6)\n",
        "img7 = io.imread(path7)\n",
        "img8 = io.imread(path8)"
      ],
      "metadata": {
        "id": "uK6emcnVwHyz"
      },
      "execution_count": null,
      "outputs": []
    },
    {
      "cell_type": "markdown",
      "source": [
        "## Questão 1\n",
        "\n",
        "Na documentação da OpenCV é possível encontrar diversos detectores e descritores. Usando um conjunto com pelo menos 6 imagens (você\n",
        "pode tirar fotos com seu telefone, por exemplo), experimente três detectores distintos nestas imagens, incluindo o detector de Harris. Pesquise e descreva resumidamente com suas palavras (até 200 palavras para cada) como cada um funciona, incluindo seus parâmetros e quais suas principais diferenças.\n",
        "Exiba resultados nas suas imagens, e em quais situações cada um funciona bem ou mal. Discuta seus parâmetros. Qual deles você achou melhor? Justifique."
      ],
      "metadata": {
        "id": "afnEM6HxK3UV"
      }
    },
    {
      "cell_type": "markdown",
      "source": [
        "## Questão 2\n",
        "\n",
        "Repita o mesmo procedimento acima para 3 tipos de descritores,\n",
        "incluindo o SIFT."
      ],
      "metadata": {
        "id": "IyxBMYPiK8bK"
      }
    },
    {
      "cell_type": "markdown",
      "source": [
        "## Questão 3\n",
        "\n",
        "Repita o mesmo procedimento acima para 3 algoritmos de geração\n",
        "de correspondências (*matching*)."
      ],
      "metadata": {
        "id": "0xnm91EtK8dt"
      }
    },
    {
      "cell_type": "markdown",
      "source": [
        "## Questão 4\n",
        "\n",
        "Escolha e descreva uma metodologia completa para geração de correspondências. Experimente 3 quantidades distintas de correspondências retornadas, variando parâmetros dos algoritmos. Aplique esta metodologia em duas imagens, exiba e discuta a qualidade dos resultados (correspondências corretas vs. outliers). Estes resultados devem ser exibidos com segmentos de reta entre imagens representando suas correspondências."
      ],
      "metadata": {
        "id": "TWZabOlLK8fj"
      }
    },
    {
      "cell_type": "markdown",
      "source": [
        "## Questão 5\n",
        "\n",
        "Explique em palavras o que significa unicidade de pontos de interesse e mostre exemplos visuais usando 1 imagem."
      ],
      "metadata": {
        "id": "YkLRinkWK8h3"
      }
    },
    {
      "cell_type": "markdown",
      "source": [
        "## Questão 6\n",
        "\n",
        "Aplique o filtro LoG em pelo menos 6 escalas distintas (você pode\n",
        "usar a OpenCV). Em seguida, implemente um algoritmo que determina se\n",
        "um pixel (*x, y, s*) é um máximo local no espaço de posição-escala. Aplique este algoritmo em todos os pixels das imagens resultantes para encontrar estes extremos, e pinte estes pixels de uma cor diferente. Exiba as imagens resultantes. Obs.: você não precisa aplicar na imagem de menor e maior escala, nem nos pixels do bordo da imagem, visto que eles não tem uma vizinhança completa."
      ],
      "metadata": {
        "id": "z8O6TW4IDtzv"
      }
    }
  ]
}